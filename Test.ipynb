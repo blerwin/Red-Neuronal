{
 "cells": [
  {
   "cell_type": "code",
   "execution_count": 2,
   "id": "cd1bc7d5",
   "metadata": {},
   "outputs": [],
   "source": [
    "#IMPORTACION DE LIBRERIAS\n",
    "import numpy as np\n",
    "from tensorflow.keras.preprocessing.image import load_img, img_to_array\n",
    "from tensorflow.keras.models import load_model"
   ]
  },
  {
   "cell_type": "code",
   "execution_count": 3,
   "id": "6d297094",
   "metadata": {},
   "outputs": [],
   "source": [
    "#CONFIGURACION DE FOTOGRAFIAS A SER TESTEADAS\n",
    "longitud, altura = 100, 100\n",
    "#CARGADO DE ARCHIVOS CON EL MODELO ENTRENADO\n",
    "modelo = './modelo/modelo.h5'\n",
    "pesos_modelo = './modelo/pesos.h5'\n",
    "cnn = load_model(modelo) \n",
    "cnn.load_weights(pesos_modelo)\n"
   ]
  },
  {
   "cell_type": "code",
   "execution_count": 4,
   "id": "6ba60aa4",
   "metadata": {},
   "outputs": [],
   "source": [
    "#FUNCION DE TESTEO SEGUN MODELO GENERADO\n",
    "def predict(file):\n",
    "  x = load_img(file, target_size=(longitud, altura))\n",
    "  x = img_to_array(x)\n",
    "  x = np.expand_dims(x, axis=0)\n",
    "  array = cnn.predict(x)\n",
    "  result = array[0]\n",
    "  answer = np.argmax(result)\n",
    "  if answer == 0:\n",
    "    print(\"Predicción: Foto pertenece a la clase 1\")\n",
    "  elif answer == 1:\n",
    "    print(\"Predicción: Foto pertenece a la clase 2\")\n",
    "  elif answer == 2:\n",
    "    print(\"Predicción: Foto pertenece a la clase 3\")\n",
    "  elif answer == 3:\n",
    "    print(\"Predicción: Foto pertenece a la clase 4\")\n",
    "  elif answer == 4:\n",
    "    print(\"Predicción: Foto pertenece a la clase 5\")\n",
    "  elif answer == 5:\n",
    "    print(\"Predicción: Foto pertenece a la clase 6\")\n",
    "  elif answer == 6:\n",
    "    print(\"Predicción: Foto pertenece a la clase 7\")\n",
    "  elif answer == 7:\n",
    "    print(\"Predicción: Foto pertenece a la clase 8\")\n",
    "  return answer"
   ]
  },
  {
   "cell_type": "code",
   "execution_count": 5,
   "id": "faa04634",
   "metadata": {},
   "outputs": [
    {
     "name": "stdout",
     "output_type": "stream",
     "text": [
      "1/1 [==============================] - 1s 1s/step\n",
      "Predicción: Foto pertenece a la clase 5\n"
     ]
    },
    {
     "data": {
      "text/plain": [
       "4"
      ]
     },
     "execution_count": 5,
     "metadata": {},
     "output_type": "execute_result"
    }
   ],
   "source": [
    "#LLAMAMIENTO DE LA FUNCION PARA TEST CON DATOS\n",
    "predict(\"./CarneDataset/test/CLASS_05/06-CAPTURE_20220427_064219_187.png\")"
   ]
  },
  {
   "cell_type": "code",
   "execution_count": null,
   "id": "03f88102",
   "metadata": {},
   "outputs": [],
   "source": []
  }
 ],
 "metadata": {
  "kernelspec": {
   "display_name": "Python 3 (ipykernel)",
   "language": "python",
   "name": "python3"
  },
  "language_info": {
   "codemirror_mode": {
    "name": "ipython",
    "version": 3
   },
   "file_extension": ".py",
   "mimetype": "text/x-python",
   "name": "python",
   "nbconvert_exporter": "python",
   "pygments_lexer": "ipython3",
   "version": "3.10.7"
  }
 },
 "nbformat": 4,
 "nbformat_minor": 5
}
